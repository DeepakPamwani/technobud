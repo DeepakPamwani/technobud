{
  "nbformat": 4,
  "nbformat_minor": 0,
  "metadata": {
    "colab": {
      "name": "TASK1  PART A & PART V.ipynb",
      "provenance": [],
      "collapsed_sections": []
    },
    "kernelspec": {
      "name": "python3",
      "display_name": "Python 3"
    },
    "language_info": {
      "name": "python"
    }
  },
  "cells": [
    {
      "cell_type": "markdown",
      "metadata": {
        "id": "AZXMOgr5lKAb"
      },
      "source": [
        "PART A\n",
        "We are going to make a \"Shopping List\" app.\n",
        "\n",
        "1.Run the script to start using it.\n",
        "\n",
        "2.Put new things into the list one at a time\n",
        "\n",
        "3.Enter the word DONE - in all CAPS - to QUIT the\n",
        "program\n",
        "\n",
        "4.And once I quit, I want the app to show me everything\n",
        "that on my list.\n",
        "\n",
        "Hint:\n",
        "Step 1: Make a list to hold onto our items.\n",
        "\n",
        "Step 2: Print out instructions on how to use the app\n",
        "\n",
        "Step 3: Ask for new items\n",
        "\n",
        "Step 4: Add new items to our list\n",
        "\n",
        "Step 5: Be able to quit the app with DONE\n",
        "\n",
        "Step 6: print out the list"
      ]
    },
    {
      "cell_type": "code",
      "metadata": {
        "colab": {
          "base_uri": "https://localhost:8080/"
        },
        "id": "abcfT5QoxxYR",
        "outputId": "79b55060-991f-451b-a5b4-dac0e4f4baf1"
      },
      "source": [
        "# As per step 1 first we create the empty list for holding the items\n",
        "Shopping_List = []\n",
        "\n",
        "# Here we defince/create the function to add, remove and view the items \n",
        "\n",
        "def add():\n",
        "  item = input('enter the item name: ')  # asking the use to add the item\n",
        "  Shopping_List.append(item)           # we add the in emptpy shoping list \n",
        "  print(item +  \" has been added in your shoping list\")\n",
        "\n",
        "\n",
        "def remove():                          # delete the item from your shopping list\n",
        "  item = input('enter the item name you wish to remove: ')\n",
        "  if item in Shopping_List:\n",
        "    Shopping_List.remove(item)\n",
        "    print(item +  ' has been removed from your shopping list')\n",
        "  else:\n",
        "    print('Entered item is not in shopping list')  \n",
        "\n",
        "  \n",
        "def view(): \n",
        "  if not Shopping_List:\n",
        "    print('Your shopping List is empty')\n",
        "  else:\n",
        "    for item in Shopping_List:\n",
        "      print(item)              \n",
        "\n",
        " \n",
        "# we set the instructions how to use this this app\n",
        "while True:\n",
        "  print(\"\"\" ## Select the option what would you like to do\n",
        "          1. Add item to shoping list\n",
        "          2. Remove  item from the shoping list\n",
        "          3. Quit the applicaiton with DONE & View List ## \"\"\")\n",
        "\n",
        "  option = int(input())\n",
        "  if option ==1:\n",
        "    add()\n",
        "  elif option == 2:\n",
        "    remove()\n",
        "  elif option == 3:\n",
        "    choice = input('Are you DONE:')\n",
        "    if choice == 'DONE':\n",
        "      break\n",
        "    else:\n",
        "      print('enter the correct word')\n",
        "  else:\n",
        "    print('enter the correct option')\n",
        "\n",
        "print('Here is your shopping list')\n",
        "view()   \n",
        "\n",
        "\n",
        "\n",
        "\n"
      ],
      "execution_count": null,
      "outputs": [
        {
          "output_type": "stream",
          "text": [
            " ## Select the option what would you like to do\n",
            "          1. Add item to shoping list\n",
            "          2. Remove  item from the shoping list\n",
            "          3. Quit the applicaiton with DONE & View List ## \n",
            "1\n",
            "enter the item name: 11\n",
            "11 has been added in your shoping list\n",
            " ## Select the option what would you like to do\n",
            "          1. Add item to shoping list\n",
            "          2. Remove  item from the shoping list\n",
            "          3. Quit the applicaiton with DONE & View List ## \n",
            "3\n",
            "Are you DONE:DONE\n",
            "Here is your shopping list\n",
            "11\n"
          ],
          "name": "stdout"
        }
      ]
    },
    {
      "cell_type": "markdown",
      "metadata": {
        "id": "nrvyHQFlAyHd"
      },
      "source": [
        "**PART B  INTERACTIVE GUESS THE NUMBER GAME;**\n",
        "\n",
        "The computer will think of a random number from 1 to 10\n",
        "as secret number.\n",
        "\n",
        "Then ask you ( Player ) to guess the number and store as\n",
        "guess number.\n",
        "\n",
        "Compare the guess number with the secret number.\n",
        "\n",
        "If the player guesses the right number he wins, so print\n",
        "player wins and computer lose.\n",
        "\n",
        "If the player guesses the wrong number, then he loses so\n",
        "print player lose and computer wins.\n",
        "\n",
        "\n"
      ]
    },
    {
      "cell_type": "code",
      "metadata": {
        "id": "FiVTSrTh5FKl"
      },
      "source": [
        "import random"
      ],
      "execution_count": null,
      "outputs": []
    },
    {
      "cell_type": "code",
      "metadata": {
        "colab": {
          "base_uri": "https://localhost:8080/"
        },
        "id": "lK76nizFRs-h",
        "outputId": "acd9cd01-5d66-4471-9d74-37727c78cf9a"
      },
      "source": [
        "random_number = random.randint(1,10)\n",
        "\n",
        "while True:\n",
        "  secret_number = int(input('guess the secret number : '))  # asking user to guess the number\n",
        "  if secret_number == random_number:\n",
        "    print('Player wins and computer lose')\n",
        "    break\n",
        "  elif secret_number > random_number:\n",
        "    print('computer wins and Player lose  number is too high')\n",
        "  else:\n",
        "    print('computer wins and Palyer lose   as number is too low')    "
      ],
      "execution_count": null,
      "outputs": [
        {
          "output_type": "stream",
          "text": [
            "guess the secret number : 10\n",
            "computer wins and Player lose  number is too high\n",
            "guess the secret number : 2\n",
            "computer wins and Palyer lose   as number is too low\n",
            "guess the secret number : 5\n",
            "computer wins and Palyer lose   as number is too low\n",
            "guess the secret number : 8\n",
            "computer wins and Player lose  number is too high\n",
            "guess the secret number : 7\n",
            "computer wins and Player lose  number is too high\n",
            "guess the secret number : 6\n",
            "Player wins and computer lose\n"
          ],
          "name": "stdout"
        }
      ]
    },
    {
      "cell_type": "code",
      "metadata": {
        "id": "JEYZ_MUmEApx"
      },
      "source": [
        "# 2nd Method by creating the function to guess the secret number\n",
        "def guess_the_number():\n",
        "  random_number = random.randint(1, 10)\n",
        "  guess_the_number = 0\n",
        "  while guess_the_number != random_number:\n",
        "    guess_the_number = int(input('Guess the number between 1 to 10: '))\n",
        "    if guess_the_number > random_number:\n",
        "      print('Player lose and Computer wins')\n",
        "    elif guess_the_number < random_number:\n",
        "      print('Player Lose and Computer wins') \n",
        "\n",
        "  print('Player wins and Computer Lose')         "
      ],
      "execution_count": null,
      "outputs": []
    },
    {
      "cell_type": "code",
      "metadata": {
        "colab": {
          "base_uri": "https://localhost:8080/"
        },
        "id": "JCyOe3LpTUQA",
        "outputId": "782413e0-2b6e-4576-b407-49ace9f41372"
      },
      "source": [
        "guess_the_number()\n"
      ],
      "execution_count": null,
      "outputs": [
        {
          "output_type": "stream",
          "text": [
            "Guess the number between 1 to 10: 5\n",
            "Player Lose and Computer wins\n",
            "Guess the number between 1 to 10: 10\n",
            "Player lose and Computer wins\n",
            "Guess the number between 1 to 10: 6\n",
            "Player Lose and Computer wins\n",
            "Guess the number between 1 to 10: 8\n",
            "Player Lose and Computer wins\n",
            "Guess the number between 1 to 10: 3\n",
            "Player Lose and Computer wins\n",
            "Guess the number between 1 to 10: 1\n",
            "Player Lose and Computer wins\n",
            "Guess the number between 1 to 10: 2\n",
            "Player Lose and Computer wins\n",
            "Guess the number between 1 to 10: 4\n",
            "Player Lose and Computer wins\n",
            "Guess the number between 1 to 10: 7\n",
            "Player Lose and Computer wins\n",
            "Guess the number between 1 to 10: 9\n",
            "Player wins and Computer Lose\n"
          ],
          "name": "stdout"
        }
      ]
    },
    {
      "cell_type": "code",
      "metadata": {
        "id": "n6alMKKfTXDw"
      },
      "source": [
        ""
      ],
      "execution_count": null,
      "outputs": []
    }
  ]
}
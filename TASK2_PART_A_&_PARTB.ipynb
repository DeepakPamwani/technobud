{
  "nbformat": 4,
  "nbformat_minor": 0,
  "metadata": {
    "colab": {
      "name": "TASK2 PART A & PARTB.ipynb",
      "provenance": [],
      "authorship_tag": "ABX9TyM0MuQ2qm9PPSdD3iajBALU",
      "include_colab_link": true
    },
    "kernelspec": {
      "name": "python3",
      "display_name": "Python 3"
    },
    "language_info": {
      "name": "python"
    }
  },
  "cells": [
    {
      "cell_type": "markdown",
      "metadata": {
        "id": "view-in-github",
        "colab_type": "text"
      },
      "source": [
        "<a href=\"https://colab.research.google.com/github/DeepakPamwani/technobud/blob/main/TASK2_PART_A_%26_PARTB.ipynb\" target=\"_parent\"><img src=\"https://colab.research.google.com/assets/colab-badge.svg\" alt=\"Open In Colab\"/></a>"
      ]
    },
    {
      "cell_type": "markdown",
      "metadata": {
        "id": "Qq7FmqA-zOB5"
      },
      "source": [
        "Part A\n",
        "\n",
        "You are a Pokémon trainer. Each Pokémon has its own power, described by a positive integer value. As you travel, you watch Pokémon and you catch each of them. After each catch, you have to display maximum and minimum powers of Pokémon caught so far. You must have linear time complexity. So sorting won’t help here. Try having minimum extra space complexity.\n",
        "\n",
        "Examples:\n",
        "Suppose you catch Pokémon of powers 3 8 9 7. \n",
        "\n",
        "Then the output should be\n",
        "\n",
        "3 3\n",
        "\n",
        "3 8\n",
        "\n",
        "3 9\n",
        "\n",
        "3 9\n",
        "\n",
        "Input : \n",
        "The single line describing powers of N Pokémon caught. \n",
        "\n",
        "Output : \n",
        "N lines stating minimum power so far and maximum power\n",
        "so far separated by single space\n"
      ]
    },
    {
      "cell_type": "code",
      "metadata": {
        "id": "WAtgxEwjz1lk",
        "colab": {
          "base_uri": "https://localhost:8080/"
        },
        "outputId": "f18e79a3-5cde-40d2-d773-9b30f510e328"
      },
      "source": [
        "pokemon_power = [3, 8, 9, 7]\n",
        "\n",
        "#first we create the variable of Minimum & maximum power with zero power\n",
        "min_power = 0\n",
        "max_power = 0\n",
        "\n",
        "\n",
        "for i in pokemon_power:\n",
        "  if min_power ==0 and max_power ==0:\n",
        "    min_power, max_power = pokemon_power[0], pokemon_power[0]\n",
        "    print(min_power, max_power)\n",
        "  else:\n",
        "    min_power = min(min_power, i)\n",
        "    max_power = max(max_power, i)\n",
        "    print(min_power, max_power)  "
      ],
      "execution_count": 1,
      "outputs": [
        {
          "output_type": "stream",
          "text": [
            "3 3\n",
            "3 8\n",
            "3 9\n",
            "3 9\n"
          ],
          "name": "stdout"
        }
      ]
    },
    {
      "cell_type": "code",
      "metadata": {
        "id": "akMpz4BstfpC"
      },
      "source": [
        ""
      ],
      "execution_count": 1,
      "outputs": []
    },
    {
      "cell_type": "markdown",
      "metadata": {
        "id": "hjVf1b7Azrtp"
      },
      "source": [
        ""
      ]
    },
    {
      "cell_type": "markdown",
      "metadata": {
        "id": "j7N0BHYzzsYB"
      },
      "source": [
        "Given the present generation’s acquaintance with gaming and its highly demanded technology, many aspire to pursue the idea of developing and advancing it further. Eventually, everyone starts at the beginning. Mastermind is an old code-breaking game played by two players. The game goes back to the 19th century and can be played with paper and pencil.\n",
        "\n",
        "\n",
        "Rules of the game\n",
        "\n",
        "Two players play the game against each other; let’s assume Player 1 and Player 2.\n",
        "\n",
        "•\tPlayer 1 plays first by setting a multi-digit number.\n",
        "\n",
        "•\tPlayer 2 now tries his first attempt at guessing the number.\n",
        "\n",
        "•\tIf Player 2 succeeds in his first attempt (despite odds which are highly unlikely) he wins the game and is crowned Mastermind! If not, then Player 1 hints by revealing which digits or numbers Player 2 got correct.\n",
        "\n",
        "•\tThe game continues till Player 2 eventually is able to guess the number entirely.\n",
        "\n",
        "•\tNow, Player 2 gets to set the number and Player 1 plays the part of guessing the number.\n",
        "\n",
        "•\tIf Player 1 is able to guess the number within a lesser number of tries than Player 2 took, then Player 1 wins the game and is crowned Mastermind.\n",
        "\n",
        "•\tIf not, then Player 2 wins the game.\n",
        "\n",
        "•\tThe real game, however, has proved aesthetics since the numbers are represented by color-coded buttons.\n",
        "\n",
        "For example:\n",
        "\n",
        "Input:\n",
        "Player 1, set the number: 5672\n",
        "\n",
        "Player 2, guess the number: 1472\n",
        "\n",
        "Output:\n",
        "\n",
        "Not quite the number. You did get 2 digits correct.\n",
        "\n",
        "X X 7 2\n",
        "\n",
        "Enter your next choice of numbers:\n"
      ]
    },
    {
      "cell_type": "code",
      "metadata": {
        "id": "-aPdIG9nz7F7"
      },
      "source": [
        "import random"
      ],
      "execution_count": 2,
      "outputs": []
    },
    {
      "cell_type": "code",
      "metadata": {
        "colab": {
          "base_uri": "https://localhost:8080/"
        },
        "id": "NXdD_ZtVZfbM",
        "outputId": "e460c7ce-c2c1-43fa-8214-6d1ecdd27f2e"
      },
      "source": [
        "player1 = random.randrange(1000, 10000)\n",
        "\n",
        "player2 = int(input(\"guess the 4 digit number: \"))\n",
        "\n",
        "if (player1 == player2):\n",
        "  print('Wow you won the game')\n",
        "else:\n",
        "  success = 0           \n",
        "\n",
        "  while (player1 != player2):\n",
        "    success += 1\n",
        "\n",
        "    count = 0\n",
        "\n",
        "    player2 = str(player2)  # convert the from int to str so that correct digit can be indenfied\n",
        "\n",
        "    player1 = str(player1)\n",
        "\n",
        "    correct_number = ['X']*4       # crealt list to store the correct digits of number\n",
        "\n",
        "    for i in range(0,4):\n",
        "\n",
        "      if (player1[i]== player2[i]): \n",
        "        count +=1\n",
        "        correct_number[i] = player2[i]      # one by one correct digits are stored in correct list\n",
        "      else:\n",
        "        continue \n",
        "\n",
        "    if (count <4) and (count !=0):\n",
        "      print('Well not quite the number however you did get ', count, 'digit(s) correct !')\n",
        "      print('Also there number in your input were correct')\n",
        "      for j in correct_number:\n",
        "        print(j, end =' ')\n",
        "      print('\\player2')\n",
        "      print('\\player2')\n",
        "      player2 = int(input(\" enter your next choice of number:\"))\n",
        "\n",
        "    elif(count ==0):\n",
        "      print('None of number in your input correct')\n",
        "      player2 = int(input(\"enter the next choice of number:\"))\n",
        "\n",
        "  if player1 == player2:\n",
        "    print(\" wow you become a mastermind and you took \", success, 'tries')         \n",
        "\n",
        "\n"
      ],
      "execution_count": null,
      "outputs": [
        {
          "output_type": "stream",
          "text": [
            "guess the 4 digit number: 1234\n",
            "Well not quite the number however you did get  1 digit(s) correct !\n",
            "Also there number in your input were correct\n",
            "X 2 X X \\player2\n",
            "\\player2\n",
            " enter your next choice of number:5233\n",
            "Well not quite the number however you did get  1 digit(s) correct !\n",
            "Also there number in your input were correct\n",
            "X 2 X X \\player2\n",
            "\\player2\n"
          ],
          "name": "stdout"
        }
      ]
    },
    {
      "cell_type": "code",
      "metadata": {
        "id": "IAu7EnICfKcF"
      },
      "source": [
        ""
      ],
      "execution_count": null,
      "outputs": []
    }
  ]
}
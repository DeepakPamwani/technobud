{
  "nbformat": 4,
  "nbformat_minor": 0,
  "metadata": {
    "colab": {
      "name": "TASK3 PART-A&B.ipynb",
      "provenance": [],
      "authorship_tag": "ABX9TyMA9f+jfX2+kxdtyATGYWRF",
      "include_colab_link": true
    },
    "kernelspec": {
      "name": "python3",
      "display_name": "Python 3"
    },
    "language_info": {
      "name": "python"
    }
  },
  "cells": [
    {
      "cell_type": "markdown",
      "metadata": {
        "id": "view-in-github",
        "colab_type": "text"
      },
      "source": [
        "<a href=\"https://colab.research.google.com/github/DeepakPamwani/technobud/blob/main/TASK3_PART_A%26B.ipynb\" target=\"_parent\"><img src=\"https://colab.research.google.com/assets/colab-badge.svg\" alt=\"Open In Colab\"/></a>"
      ]
    },
    {
      "cell_type": "markdown",
      "metadata": {
        "id": "cegz-kD-7w-w"
      },
      "source": [
        "Part_A: Roman Numbers to Decimal Converter\n",
        " \n",
        "1. Work your way through the string of Roman numerals\n",
        "from left to right, examining two adjacent characters at a\n",
        "time. If you want then you can also specify that the\n",
        "direction of loops, but it does not matter as long as the\n",
        "comparisons are implemented accordingly.\n",
        "\n",
        "\n",
        "2.If the value on the left is higher than the value on the\n",
        "right, then subtract the count at that position from the\n",
        "final value. Otherwise, just add it.\n",
        "\n",
        "\n",
        "3.Once the process is complete, the final value is the\n",
        "decimal value equivalent of the roman number.\n",
        "\n",
        "\n",
        "Examples:\n",
        "\n",
        "I: 1, V: 5, X: 10, C: 100, D: 500, M: 1000\n"
      ]
    },
    {
      "cell_type": "markdown",
      "metadata": {
        "id": "ufnZAxy97xJw"
      },
      "source": [
        ""
      ]
    },
    {
      "cell_type": "code",
      "metadata": {
        "colab": {
          "base_uri": "https://localhost:8080/"
        },
        "id": "v_xuSuwf8kI3",
        "outputId": "7ea723c2-c013-4570-c868-57b61d7f3892"
      },
      "source": [
        "# fIRST OF we will ask the user to enter the roman number\n",
        "\n",
        "n = str(input('enter the roman number:'))\n",
        "\n",
        "romans = {'I':1, 'V':5, 'X': 10, 'C':100, 'D':500, 'M':1000}     #creat dict of roman number corresponding to its numerical value\n",
        "\n",
        "converter = 0               # intially we create variable with zero value of converter\n",
        "\n",
        "for i in range(len(n)):\n",
        "  if i+1 != len(n) and romans[n[i]] < romans[n[i+1]]:\n",
        "    converter = converter - romans[n[i]]\n",
        "\n",
        "  else:\n",
        "    converter = converter + romans[n[i]]\n",
        "\n",
        "print(converter)     "
      ],
      "execution_count": 5,
      "outputs": [
        {
          "output_type": "stream",
          "text": [
            "enter the roman number:XX\n",
            "20\n"
          ],
          "name": "stdout"
        }
      ]
    },
    {
      "cell_type": "code",
      "metadata": {
        "id": "_-XFni6mD2cs"
      },
      "source": [
        ""
      ],
      "execution_count": null,
      "outputs": []
    },
    {
      "cell_type": "markdown",
      "metadata": {
        "id": "PYVtHsxDGVc5"
      },
      "source": [
        "Part_B: BMI Calculator\n",
        "\n",
        "\n",
        "The body mass index is calculated by dividing an individual’s\n",
        "weight in kilograms by their height in meters, then dividing\n",
        "the answer again by their height\n",
        "\n",
        "Examples:\n",
        "\n",
        "Enter your height in centimeters: 170\n",
        "\n",
        "Enter your Weight in Kg: 67\n",
        "\n",
        "your Body Mass Index is: 23.18339100346021\n",
        "\n",
        "you are Healthy\n"
      ]
    },
    {
      "cell_type": "code",
      "metadata": {
        "colab": {
          "base_uri": "https://localhost:8080/"
        },
        "id": "YQ-te6mWGfte",
        "outputId": "067ece07-6c2b-44d5-ca81-bbf60424daa1"
      },
      "source": [
        "# BODY MASS INDEX (BMI) is measure of body fat (underweight, overweight, normal) based on height & wieght. It can be calculated as \n",
        "# wieght(in kg) of person divided by square of height in meters\n",
        "# BMI = weight/height*height    normal rage = 18.5 to 24.9, underweight = below 18.5, overweight = above & equal to 25\n",
        "# 1 meter = 100 centimeter\n",
        "\n",
        "height = float(input('Enter your height in centimeter:'))/100\n",
        "weight = float(input('enter your weight in Kgs:'))\n",
        "bmi = weight/height**2\n",
        "bmi = round(bmi, 2)\n",
        "if bmi< 18.5:\n",
        "   result = 'you are underweight'\n",
        "elif 18.5 < bmi <24.9:\n",
        "  result = 'you are healthy'\n",
        "else:\n",
        "  result = 'your are overweight'\n",
        "\n",
        "print(bmi)\n",
        "print(result)\n"
      ],
      "execution_count": 8,
      "outputs": [
        {
          "output_type": "stream",
          "text": [
            "Enter your height in centimeter:160\n",
            "enter your weight in Kgs:55\n",
            "21.48\n",
            "you are healthy\n"
          ],
          "name": "stdout"
        }
      ]
    },
    {
      "cell_type": "code",
      "metadata": {
        "id": "03ocXL4AMCpg"
      },
      "source": [
        "6"
      ],
      "execution_count": null,
      "outputs": []
    }
  ]
}